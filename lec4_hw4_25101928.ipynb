{
  "cells": [
    {
      "cell_type": "markdown",
      "metadata": {
        "id": "XWrl3-uG3r8Z"
      },
      "source": [
        "## Homework 4\n",
        "\n",
        "+ 학번: 25101928\n",
        "+ 이름: 박현준\n",
        "\n",
        "제출방법:\n",
        "+ 1) github에 본인 repository를 만들고, 작성한 소스 코드를 upload 하세요.\n",
        "+ 2) 출력 결과는 캡처하여 README.md에 첨부하세요.\n",
        "+ 3) 자신의 github README.md 화면을 캡쳐하여 과제에 제출하세요.\n",
        "\n",
        "### Exercise 1. 노래 가사 파일에서 단어 `\"Yesterday\"`의 **개수**를 세는 프로그램을 작성하세요.\n",
        "\n",
        "### tips:\n",
        "- .upper(), .lower(), .count(),"
      ],
      "id": "XWrl3-uG3r8Z"
    },
    {
      "cell_type": "code",
      "execution_count": null,
      "metadata": {
        "colab": {
          "base_uri": "https://localhost:8080/",
          "height": 72
        },
        "id": "8AU7IV183r8a",
        "outputId": "80cee64c-154a-41e3-a619-99cb2be7d2fe"
      },
      "outputs": [
        {
          "output_type": "execute_result",
          "data": {
            "text/plain": [
              "\"Yesterday, all my troubles seemed so far away\\nNow it looks as though they're here to stay\\noh, I believe in yesterday\\n\\nSuddenly, I'm not half the man I used to be\\nThere's a shadow hanging over me\\nOh, yesterday came suddenly.\\n\\nWhy she had to go?\\nI don't know, she wouldn't say\\nI said something wrong\\nNow I long for yesterday.\\n\\nYesterday love was such an easy game to play\\nNow I need a place to hide away\\nOh, I believe in yesterday.\\n\\nWhy she had to go?\\nI don't know, she wouldn't say\\nI said something wrong\\nNow I long for yesterday.\\n\\nYesterday love was such an easy game to play\\nNow I need a place to hide away\\nOh, I believe in yesterday...\""
            ],
            "application/vnd.google.colaboratory.intrinsic+json": {
              "type": "string"
            }
          },
          "metadata": {},
          "execution_count": 5
        }
      ],
      "source": [
        "# 파일을 불러옵니다.\n",
        "with open('yesterday.txt', 'r') as f:\n",
        "    yesterday_lyric = f.read()\n",
        "\n",
        "yesterday_lyric"
      ],
      "id": "8AU7IV183r8a"
    },
    {
      "cell_type": "code",
      "execution_count": null,
      "id": "07b0a561",
      "metadata": {
        "colab": {
          "base_uri": "https://localhost:8080/"
        },
        "id": "07b0a561",
        "outputId": "5c72ce4b-b137-420c-a458-b1982262d0f5"
      },
      "outputs": [
        {
          "output_type": "stream",
          "name": "stdout",
          "text": [
            "'Yesterday' 단어의 개수: 9\n"
          ]
        }
      ],
      "source": [
        "# TODO: Your code here\n",
        "\n",
        "with open('yesterday.txt', 'r', encoding='utf-8') as f:\n",
        "    yesterday_lyric = f.read()\n",
        "\n",
        "\n",
        "yesterday_lyric_lower = yesterday_lyric.lower()\n",
        "\n",
        "count = yesterday_lyric_lower.count('yesterday')\n",
        "\n",
        "print(f\"'Yesterday' 단어의 개수: {count}\")\n",
        "\n"
      ]
    },
    {
      "cell_type": "markdown",
      "id": "d83697a5",
      "metadata": {
        "id": "d83697a5"
      },
      "source": [
        "## Excercise 2. Yesterday 노래엔 `Yesterday` 라는 말이 몇번나올까?\n",
        "\n",
        "+ 대소문자를 구분하여 `Yesterday`와 `yesterday`의 개수를 나눠서 세는 프로그램을 작성하세요.\n",
        "+ (정규표현식 `re` package 쓰지 말 것)\n",
        "\n",
        "+ tips\n",
        "    + .replace(), .split(), count()"
      ]
    },
    {
      "cell_type": "code",
      "execution_count": null,
      "metadata": {
        "colab": {
          "base_uri": "https://localhost:8080/"
        },
        "id": "wajW3S-G3r8c",
        "outputId": "c5b5e6da-3824-4111-ff05-6c747d923321"
      },
      "outputs": [
        {
          "output_type": "stream",
          "name": "stdout",
          "text": [
            "'Yesterday' 단어의 개수: 3\n",
            "'yesterday' 단어의 개수: 6\n",
            "총 개수: 9\n"
          ]
        }
      ],
      "source": [
        "# TODO: Your code here\n",
        "with open('yesterday.txt', 'r', encoding='utf-8') as f:\n",
        "    yesterday_lyric = f.read()\n",
        "\n",
        "yesterday_lyric = yesterday_lyric.replace('\\n', ' ')\n",
        "\n",
        "for ch in [',', '.', \"'\"]:\n",
        "    yesterday_lyric = yesterday_lyric.replace(ch, '')\n",
        "\n",
        "words = yesterday_lyric.split(' ')\n",
        "\n",
        "count_Yesterday = words.count('Yesterday')\n",
        "count_yesterday = words.count('yesterday')\n",
        "\n",
        "print(f\"'Yesterday' 단어의 개수: {count_Yesterday}\")\n",
        "print(f\"'yesterday' 단어의 개수: {count_yesterday}\")\n",
        "print(f\"총 개수: {count_Yesterday + count_yesterday}\")\n"
      ],
      "id": "wajW3S-G3r8c"
    }
  ],
  "metadata": {
    "kernelspec": {
      "display_name": "base",
      "language": "python",
      "name": "python3"
    },
    "language_info": {
      "codemirror_mode": {
        "name": "ipython",
        "version": 3
      },
      "file_extension": ".py",
      "mimetype": "text/x-python",
      "name": "python",
      "nbconvert_exporter": "python",
      "pygments_lexer": "ipython3",
      "version": "3.9.13"
    },
    "colab": {
      "provenance": []
    }
  },
  "nbformat": 4,
  "nbformat_minor": 5
}